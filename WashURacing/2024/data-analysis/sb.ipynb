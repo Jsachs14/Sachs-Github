{
 "cells": [
  {
   "cell_type": "code",
   "execution_count": 10,
   "metadata": {},
   "outputs": [
    {
     "name": "stdout",
     "output_type": "stream",
     "text": [
      "Initial vector A:\n",
      "[-8.06 -0.28  6.6 ]\n",
      "Normalized initial vector A:\n",
      "[-0.7734213  -0.02686823  0.63332266]\n",
      "Target vector B:\n",
      "[ 0  0 10]\n",
      "Normalized target vector B:\n",
      "[0. 0. 1.]\n",
      "Rotation axis (normalized):\n",
      "[-0.03471851  0.99939713  0.        ]\n",
      "Rotation angle (degrees):\n",
      "50.70431032929106\n",
      "Rotation matrix R:\n",
      "[[ 0.63376464 -0.01272282  0.7734213 ]\n",
      " [-0.01272282  0.99955802  0.02686823]\n",
      " [-0.7734213  -0.02686823  0.63332266]]\n",
      "Rotated vector A:\n",
      "[9.25366554e-16 0.00000000e+00 1.00000000e+01]\n"
     ]
    }
   ],
   "source": [
    "import numpy as np\n",
    "\n",
    "def normalize(v):\n",
    "    \"\"\"Normalize a vector.\"\"\"\n",
    "    norm = np.linalg.norm(v)\n",
    "    if norm == 0: \n",
    "       return v\n",
    "    return v / norm\n",
    "\n",
    "# Define the initial vector A and target vector B\n",
    "A = np.array([-8.06, -0.28, 6.6])\n",
    "B = np.array([0, 0, 10])\n",
    "\n",
    "# Normalize the vectors\n",
    "A_norm = normalize(A)\n",
    "B_norm = normalize(B)\n",
    "\n",
    "# Calculate the cross product to find the rotation axis\n",
    "u = np.cross(A_norm, B_norm)\n",
    "\n",
    "# Normalize the rotation axis\n",
    "u = normalize(u)\n",
    "\n",
    "# Calculate the dot product to find the rotation angle\n",
    "theta = np.arccos(np.dot(A_norm, B_norm))\n",
    "\n",
    "# Components of the rotation axis\n",
    "ux, uy, uz = u\n",
    "\n",
    "# Calculate the rotation matrix using the axis-angle formula\n",
    "cos_theta = np.cos(theta)\n",
    "sin_theta = np.sin(theta)\n",
    "one_minus_cos_theta = 1 - cos_theta\n",
    "\n",
    "R = np.array([\n",
    "    [cos_theta + ux**2 * one_minus_cos_theta, ux * uy * one_minus_cos_theta - uz * sin_theta, ux * uz * one_minus_cos_theta + uy * sin_theta],\n",
    "    [uy * ux * one_minus_cos_theta + uz * sin_theta, cos_theta + uy**2 * one_minus_cos_theta, uy * uz * one_minus_cos_theta - ux * sin_theta],\n",
    "    [uz * ux * one_minus_cos_theta - uy * sin_theta, uz * uy * one_minus_cos_theta + ux * sin_theta, cos_theta + uz**2 * one_minus_cos_theta]\n",
    "])\n",
    "\n",
    "# Apply the rotation matrix to the initial vector A\n",
    "A_rotated = np.dot(R, A_norm)\n",
    "\n",
    "# Scale the rotated vector to match the magnitude of the target vector B\n",
    "A_rotated = A_rotated * np.linalg.norm(B)\n",
    "\n",
    "# Display the results\n",
    "print('Initial vector A:')\n",
    "print(A)\n",
    "print('Normalized initial vector A:')\n",
    "print(A_norm)\n",
    "print('Target vector B:')\n",
    "print(B)\n",
    "print('Normalized target vector B:')\n",
    "print(B_norm)\n",
    "print('Rotation axis (normalized):')\n",
    "print(u)\n",
    "print('Rotation angle (degrees):')\n",
    "print(np.degrees(theta))\n",
    "print('Rotation matrix R:')\n",
    "print(R)\n",
    "print('Rotated vector A:')\n",
    "print(A_rotated)\n"
   ]
  },
  {
   "cell_type": "code",
   "execution_count": 4,
   "metadata": {},
   "outputs": [
    {
     "name": "stdout",
     "output_type": "stream",
     "text": [
      "10.279338500117602\n"
     ]
    },
    {
     "data": {
      "text/plain": [
       "array([-1.06858966e-15, -1.11022302e-16,  9.80032273e+00])"
      ]
     },
     "execution_count": 4,
     "metadata": {},
     "output_type": "execute_result"
    }
   ],
   "source": [
    "R_new = (9.8/10.279)*R\n",
    "\n",
    "\n",
    "print(np.linalg.norm(A))\n",
    "\n",
    "np.dot(R_new,A)"
   ]
  },
  {
   "cell_type": "code",
   "execution_count": 5,
   "metadata": {},
   "outputs": [],
   "source": [
    "#create a function to return the rotation matrix for a given vector\n",
    "\n",
    "def create_rotation_matrix(v):\n",
    "    B = np.array([0, 0, 9.8])\n",
    "\n",
    "    #store the norm of v\n",
    "    v_normz = np.linalg.norm(v)\n",
    "\n",
    "    # Normalize the vectors\n",
    "    v_norm = normalize(v)\n",
    "    B_norm = normalize(B)\n",
    "\n",
    "    # Calculate the cross product to find the rotation axis\n",
    "    u = np.cross(v_norm, B_norm)\n",
    "\n",
    "    # Normalize the rotation axis\n",
    "    u = normalize(u)\n",
    "\n",
    "    # Calculate the dot product to find the rotation angle\n",
    "    theta = np.arccos(np.dot(v_norm, B_norm))\n",
    "\n",
    "    # Components of the rotation axis\n",
    "    ux, uy, uz = u\n",
    "\n",
    "    # Calculate the rotation matrix using the axis-angle formula\n",
    "    cos_theta = np.cos(theta)\n",
    "    sin_theta = np.sin(theta)\n",
    "    one_minus_cos_theta = 1 - cos_theta\n",
    "\n",
    "    R = np.array([\n",
    "        [cos_theta + ux**2 * one_minus_cos_theta, ux * uy * one_minus_cos_theta - uz * sin_theta, ux * uz * one_minus_cos_theta + uy * sin_theta],\n",
    "        [uy * ux * one_minus_cos_theta + uz * sin_theta, cos_theta + uy**2 * one_minus_cos_theta, uy * uz * one_minus_cos_theta - ux * sin_theta],\n",
    "        [uz * ux * one_minus_cos_theta - uy * sin_theta, uz * uy * one_minus_cos_theta + ux * sin_theta, cos_theta + uz**2 * one_minus_cos_theta]\n",
    "    ])\n",
    "\n",
    "    R = (10.0/(v_normz))*R\n",
    "\n",
    "    return R"
   ]
  },
  {
   "cell_type": "code",
   "execution_count": 6,
   "metadata": {},
   "outputs": [
    {
     "data": {
      "text/plain": [
       "array([-1.34614542e-15, -2.22044605e-16,  1.00000000e+01])"
      ]
     },
     "execution_count": 6,
     "metadata": {},
     "output_type": "execute_result"
    }
   ],
   "source": [
    "np.dot(create_rotation_matrix(A),A)"
   ]
  },
  {
   "cell_type": "code",
   "execution_count": 7,
   "metadata": {},
   "outputs": [
    {
     "name": "stdout",
     "output_type": "stream",
     "text": [
      "[[ 0.6150651   0.08011721  0.79038297]\n",
      " [ 0.08011721  0.98822982 -0.16251808]\n",
      " [-0.79038297  0.16251808  0.59859144]]\n"
     ]
    }
   ],
   "source": [
    "v_new = np.array([-7.83,1.61,5.93])\n",
    "print(create_rotation_matrix(v_new))"
   ]
  },
  {
   "cell_type": "code",
   "execution_count": 9,
   "metadata": {},
   "outputs": [
    {
     "name": "stdout",
     "output_type": "stream",
     "text": [
      "[[ 0.60814773 -0.01220856  0.74215944]\n",
      " [-0.01220856  0.95915566  0.02578221]\n",
      " [-0.74215944 -0.02578221  0.60772361]]\n",
      "[1.3691305e-15 0.0000000e+00 1.0000000e+01]\n"
     ]
    }
   ],
   "source": [
    "u_new = np.array([-8.06,-0.28,6.6])\n",
    "print(create_rotation_matrix(u_new))\n",
    "\n",
    "print(np.dot(create_rotation_matrix(u_new),u_new))\n"
   ]
  },
  {
   "cell_type": "code",
   "execution_count": 12,
   "metadata": {},
   "outputs": [
    {
     "name": "stdout",
     "output_type": "stream",
     "text": [
      "[[ 0.61146138  0.09275305  0.76278828]\n",
      " [ 0.09275305  0.95878757 -0.19093815]\n",
      " [-0.76278828  0.19093815  0.5882438 ]]\n",
      "[3.33066907e-16 0.00000000e+00 1.00000000e+01]\n"
     ]
    }
   ],
   "source": [
    "p_new = np.array([-7.91,1.98,6.1])\n",
    "print(create_rotation_matrix(p_new))\n",
    "\n",
    "print(np.dot(create_rotation_matrix(p_new),p_new))"
   ]
  }
 ],
 "metadata": {
  "kernelspec": {
   "display_name": "base",
   "language": "python",
   "name": "python3"
  },
  "language_info": {
   "codemirror_mode": {
    "name": "ipython",
    "version": 3
   },
   "file_extension": ".py",
   "mimetype": "text/x-python",
   "name": "python",
   "nbconvert_exporter": "python",
   "pygments_lexer": "ipython3",
   "version": "3.9.12"
  }
 },
 "nbformat": 4,
 "nbformat_minor": 2
}
