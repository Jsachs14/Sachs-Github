{
 "cells": [
  {
   "cell_type": "code",
   "execution_count": 77,
   "metadata": {},
   "outputs": [],
   "source": [
    "import numpy as np\n",
    "import matplotlib.pyplot as plt\n",
    "import pandas as pd"
   ]
  },
  {
   "cell_type": "code",
   "execution_count": 78,
   "metadata": {},
   "outputs": [],
   "source": [
    "#import csvs\n",
    "\n",
    "mxene = pd.read_csv('Data/Mxene.csv')\n",
    "kwo_1 = pd.read_csv('Data/KWO Test-1.csv')\n",
    "kwo_2 = pd.read_csv('Data/KWO Test- 2.csv')"
   ]
  },
  {
   "cell_type": "code",
   "execution_count": 79,
   "metadata": {},
   "outputs": [],
   "source": [
    "#data processing\n",
    "\n",
    "#label columns \n",
    "#Resistance, Current, Voltage, Time\n",
    "\n",
    "mxene.columns = ['Resistance', 'Current', 'Voltage', 'Time']\n",
    "kwo_1.columns = ['Resistance', 'Current', 'Voltage', 'Time']\n",
    "kwo_2.columns = ['Resistance', 'Current', 'Voltage', 'Time']\n"
   ]
  },
  {
   "cell_type": "code",
   "execution_count": 80,
   "metadata": {},
   "outputs": [
    {
     "name": "stdout",
     "output_type": "stream",
     "text": [
      "0         0\n",
      "1         1\n",
      "2         3\n",
      "3         4\n",
      "4         5\n",
      "       ... \n",
      "714    1045\n",
      "715    1047\n",
      "716    1049\n",
      "717    1051\n",
      "718    1053\n",
      "Name: Time, Length: 719, dtype: int64\n"
     ]
    },
    {
     "name": "stderr",
     "output_type": "stream",
     "text": [
      "/var/folders/0p/gqwrfts538g0nczcykltdf980000gn/T/ipykernel_2833/3298575357.py:8: FutureWarning: Columnar iteration over characters will be deprecated in future releases.\n",
      "  mxene['hours'], mxene['minutes'], mxene['seconds'] = mxene['Time'].str.split(':', 2).str\n"
     ]
    }
   ],
   "source": [
    "#mxene initial time\n",
    "\n",
    "\n",
    "\n",
    "\n",
    "#mxene time correction\n",
    "\n",
    "mxene['hours'], mxene['minutes'], mxene['seconds'] = mxene['Time'].str.split(':', 2).str\n",
    "mxene['hours'] = pd.to_numeric(mxene['hours'])\n",
    "mxene['minutes'] = pd.to_numeric(mxene['minutes'])\n",
    "mxene['seconds'] = pd.to_numeric(mxene['seconds'])\n",
    "mxene['Time'] = mxene['hours']*3600 + mxene['minutes']*60 + mxene['seconds']\n",
    "\n",
    "mxene_init = mxene['Time'][0]\n",
    "mxene['Time'] = mxene['Time'] - mxene_init\n",
    "\n",
    "print(mxene['Time'])\n",
    "\n",
    "\n"
   ]
  },
  {
   "cell_type": "code",
   "execution_count": 81,
   "metadata": {},
   "outputs": [
    {
     "data": {
      "image/png": "[encoded data removed]",
      "text/plain": [
       "<Figure size 432x288 with 1 Axes>"
      ]
     },
     "metadata": {
      "needs_background": "light"
     },
     "output_type": "display_data"
    }
   ],
   "source": [
    "plt.plot(mxene['Time'], mxene['Resistance'])\n",
    "plt.xlabel('Time (s)')\n",
    "plt.ylabel('Resistance (Ohms)')\n",
    "plt.title('MXene Resistance vs Time')\n",
    "\n",
    "# Adding in the exposed acetone level with a legend and horizontal lines to represent time duration of exposure\n",
    "plt.axvline(x=0, color='r', linestyle='--', label='Acetone Exposure')\n",
    "plt.axvline(x=305, color='r', linestyle='--')\n",
    "plt.axvline(x=658, color='r', linestyle='--')\n",
    "plt.axvline(x=1053, color='r', linestyle='--')\n",
    "\n",
    "#put in text for the exposure amount ppm\n",
    "\n",
    "plt.text(50, 137, '60 ppm')\n",
    "plt.text(350, 137, '6 ppm')\n",
    "plt.text(700, 137, '20 ppm')\n",
    "\n",
    "\n",
    "\n",
    "plt.show()"
   ]
  },
  {
   "cell_type": "code",
   "execution_count": 82,
   "metadata": {},
   "outputs": [
    {
     "name": "stdout",
     "output_type": "stream",
     "text": [
      "  labels  resistance delta  ppm     ratio\n",
      "0  Mxene           0.00980   60  0.000163\n",
      "1  KWO-1           0.00567    6  0.000945\n",
      "2  KWO-2           0.00506   20  0.000253\n"
     ]
    }
   ],
   "source": [
    "ratios = {}\n",
    "\n",
    "ratios['labels'] = ['Mxene', 'KWO-1', 'KWO-2']\n",
    "ratios['resistance delta'] = [.0098, .00567, .00506]\n",
    "ratios['ppm'] = [60, 6, 20]\n",
    "ratios['ratio'] = [delta/ppm for delta, ppm in zip(ratios['resistance delta'], ratios['ppm'])]\n",
    "\n",
    "#print ratios as a table\n",
    "\n",
    "print(pd.DataFrame(ratios))\n",
    "\n"
   ]
  },
  {
   "cell_type": "code",
   "execution_count": 83,
   "metadata": {},
   "outputs": [
    {
     "name": "stdout",
     "output_type": "stream",
     "text": [
      "131.68273092369478\n",
      "133.736\n",
      "135.8590909090909\n",
      " \n",
      "2.1947121820615796\n",
      "22.28933333333333\n",
      "6.792954545454545\n"
     ]
    }
   ],
   "source": [
    "#constant assumption\n",
    "\n",
    "#assuming horizontal line in every acetone region\n",
    "\n",
    "#adding up all mxene values from 0-305, 305-658, 658-1053\n",
    "\n",
    "mxene_1 = mxene[mxene['Time'] <= 305]\n",
    "mxene_2 = mxene[(mxene['Time'] > 305) & (mxene['Time'] <= 658)]\n",
    "mxene_3 = mxene[(mxene['Time'] > 658) & (mxene['Time'] <= 1053)]\n",
    "\n",
    "mxene_1_mean = mxene_1['Resistance'].mean()\n",
    "mxene_2_mean = mxene_2['Resistance'].mean()\n",
    "mxene_3_mean = mxene_3['Resistance'].mean()\n",
    "\n",
    "print(mxene_1_mean)\n",
    "print(mxene_2_mean)\n",
    "print(mxene_3_mean)\n",
    "\n",
    "\n",
    "#ohms / ppm\n",
    "\n",
    "\n",
    "mxene_1_ratio = mxene_1_mean / 60\n",
    "mxene_2_ratio = mxene_2_mean / 6\n",
    "mxene_3_ratio = mxene_3_mean / 20\n",
    "\n",
    "print(' ')\n",
    "\n",
    "print(mxene_1_ratio)\n",
    "print(mxene_2_ratio)\n",
    "print(mxene_3_ratio)\n",
    "\n"
   ]
  },
  {
   "cell_type": "code",
   "execution_count": 84,
   "metadata": {},
   "outputs": [
    {
     "name": "stderr",
     "output_type": "stream",
     "text": [
      "/var/folders/0p/gqwrfts538g0nczcykltdf980000gn/T/ipykernel_2833/748937719.py:3: FutureWarning: Columnar iteration over characters will be deprecated in future releases.\n",
      "  kwo_1['hours'], kwo_1['minutes'], kwo_1['seconds'] = kwo_1['Time'].str.split(':', 2).str\n"
     ]
    }
   ],
   "source": [
    "#kwo-1\n",
    "\n",
    "kwo_1['hours'], kwo_1['minutes'], kwo_1['seconds'] = kwo_1['Time'].str.split(':', 2).str\n",
    "kwo_1['hours'] = pd.to_numeric(kwo_1['hours'])\n",
    "kwo_1['minutes'] = pd.to_numeric(kwo_1['minutes'])\n",
    "kwo_1['seconds'] = pd.to_numeric(kwo_1['seconds'])\n",
    "kwo_1['Time'] = kwo_1['hours']*3600 + kwo_1['minutes']*60 + kwo_1['seconds']\n",
    "\n",
    "kwo_1_init = kwo_1['Time'][0]\n",
    "kwo_1['Time'] = kwo_1['Time'] - kwo_1_init\n",
    "\n",
    "\n",
    "\n",
    "\n"
   ]
  },
  {
   "cell_type": "code",
   "execution_count": 92,
   "metadata": {},
   "outputs": [
    {
     "data": {
      "image/png": "[encoded data removed]",
      "text/plain": [
       "<Figure size 432x288 with 1 Axes>"
      ]
     },
     "metadata": {
      "needs_background": "light"
     },
     "output_type": "display_data"
    }
   ],
   "source": [
    "plt.plot(kwo_1['Time'], kwo_1['Resistance'])\n",
    "plt.xlabel('Time (s)')\n",
    "plt.ylabel('Resistance (Ohms)')\n",
    "plt.title('KWO-1 Resistance vs Time')\n",
    "\n",
    "# Adding in the exposed acetone level with a legend and horizontal lines to represent time duration of exposure\n",
    "\n",
    "plt.axvline(x=0, color='r', linestyle='--')\n",
    "plt.axvline(x=240, color='r', linestyle='--')\n",
    "plt.axvline(x=734, color='r', linestyle='--')\n",
    "plt.axvline(x=1046, color='r', linestyle='--')\n",
    "\n",
    "#put in text for the exposure amount ppm\n",
    "\n",
    "\n",
    "plt.show()\n"
   ]
  },
  {
   "cell_type": "code",
   "execution_count": 93,
   "metadata": {},
   "outputs": [
    {
     "name": "stderr",
     "output_type": "stream",
     "text": [
      "/var/folders/0p/gqwrfts538g0nczcykltdf980000gn/T/ipykernel_2833/1043910544.py:3: FutureWarning: Columnar iteration over characters will be deprecated in future releases.\n",
      "  kwo_2['hours'], kwo_2['minutes'], kwo_2['seconds'] = kwo_2['Time'].str.split(':', 2).str\n"
     ]
    }
   ],
   "source": [
    "#kwo-2\n",
    "\n",
    "kwo_2['hours'], kwo_2['minutes'], kwo_2['seconds'] = kwo_2['Time'].str.split(':', 2).str\n",
    "kwo_2['hours'] = pd.to_numeric(kwo_2['hours'])\n",
    "kwo_2['minutes'] = pd.to_numeric(kwo_2['minutes'])\n",
    "kwo_2['seconds'] = pd.to_numeric(kwo_2['seconds'])\n",
    "\n",
    "kwo_2['Time'] = kwo_2['hours']*3600 + kwo_2['minutes']*60 + kwo_2['seconds']\n",
    "\n",
    "kwo_2_init = kwo_2['Time'][0]\n",
    "kwo_2['Time'] = kwo_2['Time'] - kwo_2_init\n",
    "\n"
   ]
  },
  {
   "cell_type": "code",
   "execution_count": 94,
   "metadata": {},
   "outputs": [
    {
     "data": {
      "image/png": "[encoded data removed]",
      "text/plain": [
       "<Figure size 432x288 with 1 Axes>"
      ]
     },
     "metadata": {
      "needs_background": "light"
     },
     "output_type": "display_data"
    }
   ],
   "source": [
    "#plotting kwo-2\n",
    "\n",
    "plt.plot(kwo_2['Time'], kwo_2['Resistance'])\n",
    "\n",
    "plt.xlabel('Time (s)')\n",
    "plt.ylabel('Resistance (Ohms)')\n",
    "plt.title('KWO-2 Resistance vs Time')\n",
    "\n",
    "# Adding in the exposed acetone level with a legend and horizontal lines to represent time duration of exposure\n",
    "\n",
    "plt.axvline(x=0, color='r', linestyle='--')\n",
    "plt.axvline(x=243, color='r', linestyle='--')\n",
    "plt.axvline(x=735, color='r', linestyle='--')\n",
    "plt.axvline(x=1071, color='r', linestyle='--')\n",
    "\n",
    "\n",
    "plt.show()\n"
   ]
  }
 ],
 "metadata": {
  "kernelspec": {
   "display_name": "Python 3",
   "language": "python",
   "name": "python3"
  },
  "language_info": {
   "codemirror_mode": {
    "name": "ipython",
    "version": 3
   },
   "file_extension": ".py",
   "mimetype": "text/x-python",
   "name": "python",
   "nbconvert_exporter": "python",
   "pygments_lexer": "ipython3",
   "version": "3.9.12"
  }
 },
 "nbformat": 4,
 "nbformat_minor": 2
}
