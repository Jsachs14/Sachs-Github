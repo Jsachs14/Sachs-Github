{
 "cells": [
  {
   "cell_type": "code",
   "execution_count": 2,
   "metadata": {},
   "outputs": [],
   "source": [
    "import matplotlib.pyplot as plt\n",
    "import numpy as np\n",
    "import pandas as pd\n",
    "import seaborn as sns"
   ]
  },
  {
   "cell_type": "code",
   "execution_count": 3,
   "metadata": {},
   "outputs": [],
   "source": [
    "#Lab 1 spin rates\n",
    "rpm_1 = [2500,3000,3500,4000]\n",
    "thickness_1 = [200,519,469,352]\n",
    "#all developed for 30 seconds besides the first since it was under exposed\n",
    "\n",
    "#Lab 2 spin rates\n",
    "rpm_2 = [2000,3000,4000,5000]\n",
    "thickness_2 = [530, 460, 420, 375]\n"
   ]
  },
  {
   "cell_type": "code",
   "execution_count": 4,
   "metadata": {},
   "outputs": [
    {
     "data": {
      "image/png": "[encoded data removed]",
      "text/plain": [
       "<Figure size 432x288 with 1 Axes>"
      ]
     },
     "metadata": {
      "needs_background": "light"
     },
     "output_type": "display_data"
    }
   ],
   "source": [
    "#plotting\n",
    "plt.plot(rpm_1, thickness_1, 'ro', label = 'Lab 1')\n",
    "plt.plot(rpm_2, thickness_2, 'bo', label = 'Lab 2')\n",
    "plt.xlabel('RPM')\n",
    "plt.ylabel('Thickness (nm)')\n",
    "plt.title('Thickness vs RPM')\n",
    "plt.legend()\n",
    "plt.show()"
   ]
  },
  {
   "cell_type": "code",
   "execution_count": 5,
   "metadata": {},
   "outputs": [
    {
     "data": {
      "text/html": [
       "<div>\n",
       "<style scoped>\n",
       "    .dataframe tbody tr th:only-of-type {\n",
       "        vertical-align: middle;\n",
       "    }\n",
       "\n",
       "    .dataframe tbody tr th {\n",
       "        vertical-align: top;\n",
       "    }\n",
       "\n",
       "    .dataframe thead th {\n",
       "        text-align: right;\n",
       "    }\n",
       "</style>\n",
       "<table border=\"1\" class=\"dataframe\">\n",
       "  <thead>\n",
       "    <tr style=\"text-align: right;\">\n",
       "      <th></th>\n",
       "      <th>rpm</th>\n",
       "      <th>thickness</th>\n",
       "    </tr>\n",
       "  </thead>\n",
       "  <tbody>\n",
       "    <tr>\n",
       "      <th>0</th>\n",
       "      <td>2500</td>\n",
       "      <td>200</td>\n",
       "    </tr>\n",
       "    <tr>\n",
       "      <th>1</th>\n",
       "      <td>3000</td>\n",
       "      <td>519</td>\n",
       "    </tr>\n",
       "    <tr>\n",
       "      <th>2</th>\n",
       "      <td>3500</td>\n",
       "      <td>469</td>\n",
       "    </tr>\n",
       "    <tr>\n",
       "      <th>3</th>\n",
       "      <td>4000</td>\n",
       "      <td>352</td>\n",
       "    </tr>\n",
       "    <tr>\n",
       "      <th>4</th>\n",
       "      <td>2000</td>\n",
       "      <td>530</td>\n",
       "    </tr>\n",
       "    <tr>\n",
       "      <th>5</th>\n",
       "      <td>3000</td>\n",
       "      <td>460</td>\n",
       "    </tr>\n",
       "    <tr>\n",
       "      <th>6</th>\n",
       "      <td>4000</td>\n",
       "      <td>420</td>\n",
       "    </tr>\n",
       "    <tr>\n",
       "      <th>7</th>\n",
       "      <td>5000</td>\n",
       "      <td>375</td>\n",
       "    </tr>\n",
       "  </tbody>\n",
       "</table>\n",
       "</div>"
      ],
      "text/plain": [
       "    rpm  thickness\n",
       "0  2500        200\n",
       "1  3000        519\n",
       "2  3500        469\n",
       "3  4000        352\n",
       "4  2000        530\n",
       "5  3000        460\n",
       "6  4000        420\n",
       "7  5000        375"
      ]
     },
     "execution_count": 5,
     "metadata": {},
     "output_type": "execute_result"
    }
   ],
   "source": [
    "#making it one set\n",
    "rpm = rpm_1 + rpm_2\n",
    "thickness = thickness_1 + thickness_2\n",
    "\n",
    "#reogranize the data based on rpm\n",
    "data = {'rpm': rpm, 'thickness': thickness}\n",
    "df = pd.DataFrame(data)\n",
    "\n",
    "df"
   ]
  },
  {
   "cell_type": "code",
   "execution_count": 6,
   "metadata": {},
   "outputs": [
    {
     "data": {
      "text/html": [
       "<div>\n",
       "<style scoped>\n",
       "    .dataframe tbody tr th:only-of-type {\n",
       "        vertical-align: middle;\n",
       "    }\n",
       "\n",
       "    .dataframe tbody tr th {\n",
       "        vertical-align: top;\n",
       "    }\n",
       "\n",
       "    .dataframe thead th {\n",
       "        text-align: right;\n",
       "    }\n",
       "</style>\n",
       "<table border=\"1\" class=\"dataframe\">\n",
       "  <thead>\n",
       "    <tr style=\"text-align: right;\">\n",
       "      <th></th>\n",
       "      <th>rpm</th>\n",
       "      <th>thickness</th>\n",
       "    </tr>\n",
       "  </thead>\n",
       "  <tbody>\n",
       "    <tr>\n",
       "      <th>1</th>\n",
       "      <td>3000</td>\n",
       "      <td>519</td>\n",
       "    </tr>\n",
       "    <tr>\n",
       "      <th>2</th>\n",
       "      <td>3500</td>\n",
       "      <td>469</td>\n",
       "    </tr>\n",
       "    <tr>\n",
       "      <th>3</th>\n",
       "      <td>4000</td>\n",
       "      <td>352</td>\n",
       "    </tr>\n",
       "    <tr>\n",
       "      <th>4</th>\n",
       "      <td>2000</td>\n",
       "      <td>530</td>\n",
       "    </tr>\n",
       "    <tr>\n",
       "      <th>5</th>\n",
       "      <td>3000</td>\n",
       "      <td>460</td>\n",
       "    </tr>\n",
       "    <tr>\n",
       "      <th>6</th>\n",
       "      <td>4000</td>\n",
       "      <td>420</td>\n",
       "    </tr>\n",
       "    <tr>\n",
       "      <th>7</th>\n",
       "      <td>5000</td>\n",
       "      <td>375</td>\n",
       "    </tr>\n",
       "  </tbody>\n",
       "</table>\n",
       "</div>"
      ],
      "text/plain": [
       "    rpm  thickness\n",
       "1  3000        519\n",
       "2  3500        469\n",
       "3  4000        352\n",
       "4  2000        530\n",
       "5  3000        460\n",
       "6  4000        420\n",
       "7  5000        375"
      ]
     },
     "execution_count": 6,
     "metadata": {},
     "output_type": "execute_result"
    }
   ],
   "source": [
    "#calculate IQR\n",
    "\n",
    "Q1 = df['thickness'].quantile(0.25)\n",
    "Q3 = df['thickness'].quantile(0.75)\n",
    "IQR = Q3 - Q1\n",
    "\n",
    "IQR\n",
    "\n",
    "#remove outliers\n",
    "df = df[~((df['thickness'] < (Q1 - 1.5 * IQR)) |(df['thickness'] > (Q3 + 1.5 * IQR)))]\n",
    "\n",
    "#one outlier was removed, the point with 90 second exposure time\n",
    "#the other 7 were not chosen as outliers due to 3/2IQR\n",
    "\n",
    "\n",
    "\n",
    "df"
   ]
  },
  {
   "cell_type": "code",
   "execution_count": 7,
   "metadata": {},
   "outputs": [
    {
     "name": "stderr",
     "output_type": "stream",
     "text": [
      "/var/folders/0p/gqwrfts538g0nczcykltdf980000gn/T/ipykernel_35766/3632413892.py:12: FutureWarning: The frame.append method is deprecated and will be removed from pandas in a future version. Use pandas.concat instead.\n",
      "  df = df.append({'rpm': 4000, 'thickness': average_4000}, ignore_index=True)\n",
      "/var/folders/0p/gqwrfts538g0nczcykltdf980000gn/T/ipykernel_35766/3632413892.py:13: FutureWarning: The frame.append method is deprecated and will be removed from pandas in a future version. Use pandas.concat instead.\n",
      "  df = df.append({'rpm': 3000, 'thickness': average_3000}, ignore_index=True)\n"
     ]
    },
    {
     "data": {
      "text/html": [
       "<div>\n",
       "<style scoped>\n",
       "    .dataframe tbody tr th:only-of-type {\n",
       "        vertical-align: middle;\n",
       "    }\n",
       "\n",
       "    .dataframe tbody tr th {\n",
       "        vertical-align: top;\n",
       "    }\n",
       "\n",
       "    .dataframe thead th {\n",
       "        text-align: right;\n",
       "    }\n",
       "</style>\n",
       "<table border=\"1\" class=\"dataframe\">\n",
       "  <thead>\n",
       "    <tr style=\"text-align: right;\">\n",
       "      <th></th>\n",
       "      <th>rpm</th>\n",
       "      <th>thickness</th>\n",
       "    </tr>\n",
       "  </thead>\n",
       "  <tbody>\n",
       "    <tr>\n",
       "      <th>1</th>\n",
       "      <td>2000.0</td>\n",
       "      <td>530.0</td>\n",
       "    </tr>\n",
       "    <tr>\n",
       "      <th>4</th>\n",
       "      <td>3000.0</td>\n",
       "      <td>489.5</td>\n",
       "    </tr>\n",
       "    <tr>\n",
       "      <th>0</th>\n",
       "      <td>3500.0</td>\n",
       "      <td>469.0</td>\n",
       "    </tr>\n",
       "    <tr>\n",
       "      <th>3</th>\n",
       "      <td>4000.0</td>\n",
       "      <td>386.0</td>\n",
       "    </tr>\n",
       "    <tr>\n",
       "      <th>2</th>\n",
       "      <td>5000.0</td>\n",
       "      <td>375.0</td>\n",
       "    </tr>\n",
       "  </tbody>\n",
       "</table>\n",
       "</div>"
      ],
      "text/plain": [
       "      rpm  thickness\n",
       "1  2000.0      530.0\n",
       "4  3000.0      489.5\n",
       "0  3500.0      469.0\n",
       "3  4000.0      386.0\n",
       "2  5000.0      375.0"
      ]
     },
     "execution_count": 7,
     "metadata": {},
     "output_type": "execute_result"
    }
   ],
   "source": [
    "#the 2000, 3000, 4000 points have repeats. Lets average them into 1 data point per x value\n",
    "#we treated one of the 2000 as a outlier. We only need to do this for 4000/3000\n",
    "\n",
    "average_4000 = (352+420)/2\n",
    "average_3000 = (519+460)/2\n",
    "\n",
    "#remove all 4000 points\n",
    "df = df[df.rpm != 4000]\n",
    "df = df[df.rpm != 3000]\n",
    "\n",
    "#add the average back in\n",
    "df = df.append({'rpm': 4000, 'thickness': average_4000}, ignore_index=True)\n",
    "df = df.append({'rpm': 3000, 'thickness': average_3000}, ignore_index=True)\n",
    "\n",
    "\n",
    "\n",
    "#reorder df by rpm\n",
    "df = df.sort_values(by=['rpm'])\n",
    "\n",
    "df"
   ]
  },
  {
   "cell_type": "code",
   "execution_count": 35,
   "metadata": {},
   "outputs": [
    {
     "name": "stderr",
     "output_type": "stream",
     "text": [
      "No artists with labels found to put in legend.  Note that artists whose label start with an underscore are ignored when legend() is called with no argument.\n"
     ]
    },
    {
     "name": "stdout",
     "output_type": "stream",
     "text": [
      "y=695.2013742900575*e^(-0.00012632912084770042x)\n"
     ]
    },
    {
     "data": {
      "image/png": "[encoded data removed]",
      "text/plain": [
       "<Figure size 432x288 with 1 Axes>"
      ]
     },
     "metadata": {
      "needs_background": "light"
     },
     "output_type": "display_data"
    }
   ],
   "source": [
    "#plotting\n",
    "plt.plot(df['rpm'], df['thickness'], 'ro')\n",
    "\n",
    "plt.xlabel('Spin Speed (rpm)')\n",
    "plt.ylabel('Thickness (nm)')\n",
    "plt.title('Experimental Spin Speed Curve for S1805')\n",
    "plt.legend()\n",
    "\n",
    "\n",
    "#plotting the line of best fit in exponential\n",
    "x = df['rpm']\n",
    "y = df['thickness']\n",
    "\n",
    "#fitting the data to an exponential curve\n",
    "fit = np.polyfit(x, np.log(y), 1, w=np.sqrt(y))\n",
    "y = np.exp(fit[1]) * np.exp(fit[0]*x)\n",
    "\n",
    "#plotting the line of best fit\n",
    "plt.plot(x,y, label='Exp Line of Best Fit')\n",
    "\n",
    "#put the coeff of the exponential line of best fit in text on the graph\n",
    "\n",
    "text = \"y=\"+str(np.exp(fit[1]))+\"*e^(\"+str(fit[0])+\"x)\"\n",
    "plt.text(2800, 510, text, ha='left', wrap=True, fontsize=8)\n",
    "\n",
    "print(\"y=\"+str(np.exp(fit[1]))+\"*e^(\"+str(fit[0])+\"x)\")\n",
    "\n",
    "\n",
    "\n",
    "plt.legend()\n",
    "\n",
    "\n",
    "#save this image as a png\n",
    "\n",
    "plt.savefig('thickness_vs_rpm.png', dpi=300, bbox_inches='tight',facecolor='w')\n",
    "plt.show()"
   ]
  },
  {
   "cell_type": "code",
   "execution_count": 36,
   "metadata": {},
   "outputs": [
    {
     "data": {
      "image/png": "[encoded data removed]",
      "text/plain": [
       "<Figure size 432x288 with 1 Axes>"
      ]
     },
     "metadata": {
      "needs_background": "light"
     },
     "output_type": "display_data"
    }
   ],
   "source": [
    "#second graph\n",
    "\n",
    "exp_time = [5,6.5,8,10]\n",
    "thickness_gr2 = [267,304,338,550]\n",
    "\n",
    "#plotting\n",
    "plt.plot(exp_time, thickness_gr2, 'ro')\n",
    "\n",
    "plt.xlabel('Exposure Time (s)')\n",
    "plt.ylabel('Thickness (nm)')\n",
    "\n",
    "plt.title('Experimental Exposure Time Curve for SU2008.5 at 3000RPM')\n",
    "\n",
    "\n",
    "#plot a horizongtal line at 550 nm\n",
    "\n",
    "plt.axhline(y=550, color='b', linestyle='-', label = 'Target Thickness for SU2008.5 at 3000RPM')\n",
    "plt.legend()\n",
    "plt.yticks(np.arange(250, 700, 50))\n",
    "\n",
    "\n",
    "plt.savefig('thickness_vs_exp_time.png', dpi=300, bbox_inches='tight',facecolor='w')\n",
    "\n",
    "plt.show()\n"
   ]
  }
 ],
 "metadata": {
  "kernelspec": {
   "display_name": "Python 3",
   "language": "python",
   "name": "python3"
  },
  "language_info": {
   "codemirror_mode": {
    "name": "ipython",
    "version": 3
   },
   "file_extension": ".py",
   "mimetype": "text/x-python",
   "name": "python",
   "nbconvert_exporter": "python",
   "pygments_lexer": "ipython3",
   "version": "3.9.12"
  },
  "orig_nbformat": 4
 },
 "nbformat": 4,
 "nbformat_minor": 2
}
