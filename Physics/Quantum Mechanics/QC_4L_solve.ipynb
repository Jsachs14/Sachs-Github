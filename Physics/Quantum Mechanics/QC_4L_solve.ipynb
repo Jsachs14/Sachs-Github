{
 "cells": [
  {
   "cell_type": "code",
   "execution_count": 51,
   "metadata": {},
   "outputs": [
    {
     "name": "stdout",
     "output_type": "stream",
     "text": [
      "{'I ⊗ I': -4.5, 'I ⊗ X': 3.0, 'I ⊗ Y': -1j, 'I ⊗ Z': -0.5, 'X ⊗ I': 0.0, 'X ⊗ X': 1.5, 'X ⊗ Y': 0.5j, 'X ⊗ Z': 0.0, 'Y ⊗ I': 0j, 'Y ⊗ X': -0.5j, 'Y ⊗ Y': (1.5+0j), 'Y ⊗ Z': 0j, 'Z ⊗ I': -1.5, 'Z ⊗ X': 1.0, 'Z ⊗ Y': 0j, 'Z ⊗ Z': 1.5}\n"
     ]
    }
   ],
   "source": [
    "import numpy as np\n",
    "import pandas as pd\n",
    "\n",
    "# Define the Pauli matrices without Y\n",
    "I = np.array([[1, 0], [0, 1]])\n",
    "X = np.array([[0, 1], [1, 0]])\n",
    "Y = np.array([[0, -1j], [1j, 0]])\n",
    "Z = np.array([[1, 0], [0, -1]])\n",
    "\n",
    "\n",
    "k_1p = 5\n",
    "k_1m = 3\n",
    "k_2p = 4\n",
    "k_2m = 2\n",
    "k_3p = 3\n",
    "k_3m = 1\n",
    "\n",
    "# Define the given matrix A\n",
    "# A = np.array([\n",
    "#     [-5, 3, 0, 0],\n",
    "#     [5, -7, 2, 0],\n",
    "#     [0, 4, -5, 1],\n",
    "#     [0, 0, 3, -1]\n",
    "# ])\n",
    "\n",
    "A = np.array([\n",
    "    [-k_1p, k_1m, 0, 0],\n",
    "    [k_1p, -(k_1m + k_2p), k_2m, 0],\n",
    "    [0, k_2p, -(k_2m + k_3p), k_3m],\n",
    "    [0, 0, k_3p, -k_3m]])\n",
    "\n",
    "\n",
    "\n",
    "\n",
    "# Define the given matrix A\n",
    "A = np.array([\n",
    "    [-5, 3, 0, 0],\n",
    "    [5, -7, 2, 0],\n",
    "    [0, 4, -5, 1],\n",
    "    [0, 0, 3, -1]\n",
    "])\n",
    "\n",
    "# List of Pauli matrices\n",
    "paulis = [I, X, Y, Z]\n",
    "pauli_labels = ['I', 'X', 'Y', 'Z']\n",
    "\n",
    "# Function to calculate the coefficients\n",
    "def calculate_coefficients(A):\n",
    "    coefficients = {}\n",
    "    for i, sigma_i in enumerate(paulis):\n",
    "        for j, sigma_j in enumerate(paulis):\n",
    "            pauli_string = f\"{pauli_labels[i]} \\u2297 {pauli_labels[j]}\"\n",
    "            tensor_product = np.kron(sigma_i, sigma_j)\n",
    "            coefficient = 0.25 * np.trace(A @ tensor_product)\n",
    "            coefficients[pauli_string] = coefficient\n",
    "    return coefficients\n",
    "\n",
    "# Calculate the coefficients\n",
    "coefficients = calculate_coefficients(A)\n",
    "\n",
    "print(coefficients)\n",
    "\n",
    "\n"
   ]
  },
  {
   "cell_type": "code",
   "execution_count": 42,
   "metadata": {},
   "outputs": [
    {
     "name": "stdout",
     "output_type": "stream",
     "text": [
      "[-1.09424629e+01 -5.44685237e+00 -1.61068475e+00 -1.23787751e-16]\n"
     ]
    }
   ],
   "source": [
    "#analyical eigenvalues\n",
    "\n",
    "eigenvalues = np.linalg.eigvals(A)\n",
    "\n",
    "print(eigenvalues)"
   ]
  },
  {
   "cell_type": "code",
   "execution_count": 43,
   "metadata": {},
   "outputs": [],
   "source": [
    "import qiskit\n",
    "import numpy as np\n",
    "from qiskit.circuit import QuantumCircuit, ParameterVector\n",
    "\n",
    "from qiskit.quantum_info import SparsePauliOp\n",
    "from qiskit_algorithms.optimizers import SPSA\n",
    "from qiskit.quantum_info import SparsePauliOp\n",
    "from qiskit.circuit.library import TwoLocal\n",
    "from qiskit_algorithms.utils import algorithm_globals\n",
    "from qiskit.primitives import Sampler\n",
    "from qiskit.primitives import Estimator\n",
    "from qiskit_ibm_runtime import QiskitRuntimeService, Session\n",
    "import numpy as np\n",
    "from qiskit_algorithms import VQE\n",
    "import pylab\n",
    "from qiskit import QuantumCircuit\n",
    "from qiskit import transpile\n",
    "from qiskit.providers.basic_provider import BasicSimulator\n",
    "from qiskit.quantum_info import Statevector\n",
    "import pandas as pd\n",
    "\n",
    "from qiskit_algorithms import NumPyMinimumEigensolver\n"
   ]
  },
  {
   "cell_type": "code",
   "execution_count": 49,
   "metadata": {},
   "outputs": [
    {
     "name": "stdout",
     "output_type": "stream",
     "text": [
      "[[-5. +0.j  4. +0.j  0. +0.j  1.5+0.j]\n",
      " [ 4. +0.j -7. +0.j  1.5+0.j  0. +0.j]\n",
      " [ 0. +0.j  1.5+0.j -5. +0.j  2. +0.j]\n",
      " [ 1.5+0.j  0. +0.j  2. +0.j -1. +0.j]]\n"
     ]
    }
   ],
   "source": [
    "#set the coefficents to a coeff list\n",
    "\n",
    "coeff = list(coefficients.values())\n",
    "\n",
    "Pauli_strings = ['II', 'IX', 'IZ', 'XI', 'XX', 'XZ', 'ZI', 'ZX', 'ZZ']\n",
    "\n",
    "SPSA_obj = SPSA(maxiter=100)\n",
    "\n",
    "Hamiltonian = SparsePauliOp(Pauli_strings, coeff)\n",
    "\n",
    "counts = []\n",
    "values = []\n",
    "\n",
    "def store_intermediate_result(eval_count, parameters, mean, std):\n",
    "    counts.append(eval_count)\n",
    "    values.append(mean)\n",
    "\n",
    "\n",
    "def run_vqe(Hamiltonian, ansatz, optimizer, backend):\n",
    "    with Session(backend=backend) as session:\n",
    "        estimator = Estimator()\n",
    "        vqe = VQE(\n",
    "            estimator=estimator,\n",
    "            ansatz=ansatz,\n",
    "            optimizer=SPSA_obj,\n",
    "            callback=store_intermediate_result,\n",
    "    )\n",
    "    result = vqe.compute_minimum_eigenvalue(Hamiltonian)\n",
    "\n",
    "    return result\n",
    "\n"
   ]
  },
  {
   "cell_type": "code",
   "execution_count": 45,
   "metadata": {},
   "outputs": [
    {
     "name": "stdout",
     "output_type": "stream",
     "text": [
      "VQE Result: -10.57822590607047\n",
      "Exact Result: -10.578915463534539\n"
     ]
    }
   ],
   "source": [
    "from qiskit.circuit.library import EfficientSU2\n",
    "\n",
    "from qiskit_ibm_runtime.fake_provider import FakeManilaV2\n",
    "\n",
    "num_qubits = 2\n",
    "\n",
    "ansatz = EfficientSU2(num_qubits, reps=1)\n",
    "\n",
    "x0 = 2* np.pi * np.random.rand(ansatz.num_parameters)\n",
    "\n",
    "QiskitRuntimeService.save_account(channel=\"ibm_quantum\",token=\"2ec3d4b6d5627dd41d59512bd3f409639bc03dc9ec4dea96fe4067cfa8068a4598d9425f65f83bcde69f36ec0163d27636038af17292aea7db49ff6691b7be1a\",overwrite=True)\n",
    "service = QiskitRuntimeService()\n",
    "backend = FakeManilaV2()\n",
    "\n",
    "result = run_vqe(Hamiltonian, ansatz, SPSA_obj, backend)\n",
    "\n",
    "#analytical solution\n",
    "    \n",
    "numpy_solver = NumPyMinimumEigensolver()\n",
    "result_exact = numpy_solver.compute_minimum_eigenvalue(Hamiltonian)\n",
    "ref_value = result_exact.eigenvalue.real\n",
    "\n",
    "print(\"VQE Result:\", result.eigenvalue.real)\n",
    "print(\"Exact Result:\", ref_value)\n"
   ]
  },
  {
   "cell_type": "code",
   "execution_count": 46,
   "metadata": {},
   "outputs": [],
   "source": [
    "#VQD for the second and third lowest eigenvalues\n",
    "from qiskit_algorithms import VQD, VQDResult\n",
    "\n",
    "eval_counts = []\n",
    "values = []\n",
    "current_steps = []\n",
    "\n",
    "def store_intermediate_result(eval_count, parameters, value, meta, step):\n",
    "    eval_counts.append(eval_count)\n",
    "    values.append(value)\n",
    "    current_steps.append(step)\n",
    "\n",
    "def run_vqd(Hamiltonian, ansatz, optimizer, backend, fidelity, k):\n",
    "    with Session(backend=backend) as session:\n",
    "        estimator = Estimator()\n",
    "        vqd = VQD(\n",
    "            estimator=estimator,\n",
    "            ansatz=ansatz,\n",
    "            optimizer=optimizer,\n",
    "            callback=store_intermediate_result,\n",
    "            k=k,\n",
    "            fidelity=fidelity\n",
    "        )\n",
    "    result = vqd.compute_eigenvalues(Hamiltonian)\n",
    "\n",
    "    return result"
   ]
  },
  {
   "cell_type": "code",
   "execution_count": 47,
   "metadata": {},
   "outputs": [
    {
     "name": "stdout",
     "output_type": "stream",
     "text": [
      "VQD Result: [-10.52324729+0.j  -2.45118486+0.j  -1.22648645+0.j]\n"
     ]
    }
   ],
   "source": [
    "from qiskit_algorithms.state_fidelities import ComputeUncompute\n",
    "from qiskit.primitives import Sampler\n",
    "\n",
    "num_qubits = 2\n",
    "\n",
    "SPSA_obj = SPSA(maxiter=100)\n",
    "\n",
    "ansatz = EfficientSU2(num_qubits, reps=1)\n",
    "\n",
    "x0 = 2* np.pi * np.random.rand(ansatz.num_parameters)\n",
    "\n",
    "QiskitRuntimeService.save_account(channel=\"ibm_quantum\",token=\"2ec3d4b6d5627dd41d59512bd3f409639bc03dc9ec4dea96fe4067cfa8068a4598d9425f65f83bcde69f36ec0163d27636038af17292aea7db49ff6691b7be1a\",overwrite=True)\n",
    "service = QiskitRuntimeService()\n",
    "backend = FakeManilaV2()\n",
    "\n",
    "sampler = Sampler()\n",
    "fidelity = ComputeUncompute(sampler)\n",
    "\n",
    "\n",
    "#have to declare a fidelity object\n",
    "\n",
    "result = run_vqd(Hamiltonian, ansatz, SPSA_obj, backend, fidelity, 3)\n",
    "\n",
    "print(\"VQD Result:\", result.eigenvalues)"
   ]
  }
 ],
 "metadata": {
  "kernelspec": {
   "display_name": "Python 3",
   "language": "python",
   "name": "python3"
  },
  "language_info": {
   "codemirror_mode": {
    "name": "ipython",
    "version": 3
   },
   "file_extension": ".py",
   "mimetype": "text/x-python",
   "name": "python",
   "nbconvert_exporter": "python",
   "pygments_lexer": "ipython3",
   "version": "3.12.0"
  }
 },
 "nbformat": 4,
 "nbformat_minor": 2
}
