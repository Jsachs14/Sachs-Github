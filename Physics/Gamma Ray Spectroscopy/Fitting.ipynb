{
 "cells": [
  {
   "cell_type": "code",
   "execution_count": 2,
   "metadata": {},
   "outputs": [],
   "source": [
    "import matplotlib.pyplot as plt"
   ]
  },
  {
   "cell_type": "code",
   "execution_count": 3,
   "metadata": {},
   "outputs": [
    {
     "name": "stdout",
     "output_type": "stream",
     "text": [
      "[ 0.05279725 -0.0667103 ]\n"
     ]
    }
   ],
   "source": [
    "#make a fitting curve for channel number vs expected energy\n",
    "\n",
    "import numpy as np\n",
    "\n",
    "energy = [662,122,59.5]\n",
    "channel = [12540,2310,1130]\n",
    "\n",
    "from scipy.optimize import curve_fit\n",
    "\n",
    "def func(x, a, b):\n",
    "    return a*x + b\n",
    "\n",
    "popt, pcov = curve_fit(func, channel, energy)\n",
    "\n",
    "print(popt)\n",
    "\n",
    "\n"
   ]
  },
  {
   "cell_type": "code",
   "execution_count": 4,
   "metadata": {},
   "outputs": [],
   "source": [
    "#convert from channel number to energy\n",
    "\n",
    "def channel_to_energy(channel):\n",
    "    return popt[0]*channel + popt[1]\n",
    "\n",
    "def energy_to_channel(energy):\n",
    "    return (energy - popt[1])/popt[0]"
   ]
  },
  {
   "cell_type": "code",
   "execution_count": 48,
   "metadata": {},
   "outputs": [
    {
     "data": {
      "text/plain": [
       "211.12230869151952"
      ]
     },
     "execution_count": 48,
     "metadata": {},
     "output_type": "execute_result"
    }
   ],
   "source": [
    "#we want 80 keV\n",
    "\n",
    "channel_80 = energy_to_channel(80)\n",
    "channel_to_energy(4000)\n"
   ]
  },
  {
   "cell_type": "code",
   "execution_count": 49,
   "metadata": {},
   "outputs": [
    {
     "data": {
      "text/plain": [
       "3997.6834270625245"
      ]
     },
     "execution_count": 49,
     "metadata": {},
     "output_type": "execute_result"
    }
   ],
   "source": [
    "energy_to_channel(211)"
   ]
  },
  {
   "cell_type": "code",
   "execution_count": 44,
   "metadata": {},
   "outputs": [
    {
     "data": {
      "text/plain": [
       "209.60768412867594"
      ]
     },
     "execution_count": 44,
     "metadata": {},
     "output_type": "execute_result"
    }
   ],
   "source": [
    "#check the line with the extra barium point??\n",
    "\n",
    "energy_to_channel(11)\n"
   ]
  },
  {
   "cell_type": "code",
   "execution_count": 40,
   "metadata": {},
   "outputs": [
    {
     "name": "stdout",
     "output_type": "stream",
     "text": [
      "2.3091661677710813\n"
     ]
    }
   ],
   "source": [
    "# print(channel_to_energy(800))\n",
    "# print(channel_to_energy(1000))\n",
    "# print(channel_to_energy(1500))\n",
    "# print(channel_to_energy(5200))\n",
    "# print(channel_to_energy(5700))\n",
    "# print(channel_to_energy(6700))\n",
    "# print(channel_to_energy(7200))\n",
    "# print(channel_to_energy(580))\n",
    "# print(channel_to_energy(670))\n",
    "# print(channel_to_energy(1000))\n",
    "# print(channel_to_energy(1380))\n",
    "# print(channel_to_energy(1420))\n",
    "# print(channel_to_energy(1535))\n",
    "# print(channel_to_energy(5200))\n",
    "# print(channel_to_energy(5700))\n",
    "# print(channel_to_energy(6800))\n",
    "# print(channel_to_energy(7200))\n",
    "print(channel_to_energy(45))"
   ]
  },
  {
   "cell_type": "code",
   "execution_count": 24,
   "metadata": {},
   "outputs": [
    {
     "name": "stdout",
     "output_type": "stream",
     "text": [
      "59.59418756809145\n",
      "49.56270916619203\n",
      "2.3091661677710813\n"
     ]
    }
   ],
   "source": [
    "# print(channel_to_energy(12550))\n",
    "# print(channel_to_energy(1600))\n",
    "# print(channel_to_energy(1400))\n",
    "# print(channel_to_energy(600))\n",
    "# print(channel_to_energy(650))\n",
    "# print(channel_to_energy(2310))\n",
    "# print(channel_to_energy(1430))\n",
    "# print(channel_to_energy(2600))\n",
    "# print(channel_to_energy(1610))\n",
    "# print(energy_to_channel(14))\n",
    "print(channel_to_energy(1130))\n",
    "print(channel_to_energy(940))\n",
    "print(channel_to_energy(45))"
   ]
  },
  {
   "cell_type": "code",
   "execution_count": 10,
   "metadata": {},
   "outputs": [
    {
     "data": {
      "image/png": "[encoded data removed]",
      "text/plain": [
       "<Figure size 432x288 with 1 Axes>"
      ]
     },
     "metadata": {
      "needs_background": "light"
     },
     "output_type": "display_data"
    }
   ],
   "source": [
    "#plot the best fit line\n",
    "plt.scatter(channel, energy, label='Data Points')\n",
    "plt.scatter(600,80,color=\"green\")\n",
    "\n",
    "\n",
    "\n",
    "plt.plot(channel, func(np.array(channel), *popt), label='Best Fit Line', color='red')\n",
    "plt.xlabel('Channel Number')\n",
    "plt.ylabel('Energy (keV)')\n",
    "plt.legend()\n",
    "plt.show()\n",
    "\n"
   ]
  }
 ],
 "metadata": {
  "kernelspec": {
   "display_name": "base",
   "language": "python",
   "name": "python3"
  },
  "language_info": {
   "codemirror_mode": {
    "name": "ipython",
    "version": 3
   },
   "file_extension": ".py",
   "mimetype": "text/x-python",
   "name": "python",
   "nbconvert_exporter": "python",
   "pygments_lexer": "ipython3",
   "version": "3.9.12"
  }
 },
 "nbformat": 4,
 "nbformat_minor": 2
}
