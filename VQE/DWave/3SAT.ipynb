{
 "cells": [
  {
   "cell_type": "code",
   "execution_count": 1,
   "metadata": {},
   "outputs": [],
   "source": [
    "from dimod import BinaryQuadraticModel\n",
    "from dwave.system import DWaveSampler, EmbeddingComposite\n",
    "import matplotlib.pyplot as plt\n",
    "import dwave.inspector"
   ]
  },
  {
   "cell_type": "code",
   "execution_count": 2,
   "metadata": {},
   "outputs": [],
   "source": [
    "row_1 = [0,-2,2,-1,1,-1,1]\n",
    "row_2 = [0,1,0,-1,-1,1,-1]\n",
    "row_3 = [0,0,-1,-1,-1,-1,1]\n",
    "row_4 = [0,0,0,2,0,0,0]\n",
    "row_5 = [0,0,0,0,1,0,0]\n",
    "row_6 = [0,0,0,0,0,1,0]\n",
    "row_7 = [0,0,0,0,0,0,0]\n",
    "\n",
    "rows = [row_1,row_2,row_3,row_4,row_5,row_6,row_7]\n",
    "\n",
    "\n",
    "\n",
    "\n",
    "\n",
    "def QUBO(listofrows):\n",
    "    #makes a QUBO from a list of rows\n",
    "    #listofrows is a list of lists\n",
    "    #it needs to be turned into a dictionary\n",
    "    Q = {}\n",
    "\n",
    "    for i in range(len(listofrows)):\n",
    "        for j in range(len(listofrows[i])):\n",
    "            Q[(i,j)] = listofrows[i][j]\n",
    "\n",
    "    return Q\n",
    "\n",
    "\n",
    "            \n"
   ]
  },
  {
   "cell_type": "code",
   "execution_count": 3,
   "metadata": {},
   "outputs": [
    {
     "name": "stdout",
     "output_type": "stream",
     "text": [
      "{(0, 0): 0, (0, 1): -2, (0, 2): 2, (0, 3): -1, (0, 4): 1, (0, 5): -1, (0, 6): 1, (1, 0): 0, (1, 1): 1, (1, 2): 0, (1, 3): -1, (1, 4): -1, (1, 5): 1, (1, 6): -1, (2, 0): 0, (2, 1): 0, (2, 2): -1, (2, 3): -1, (2, 4): -1, (2, 5): -1, (2, 6): 1, (3, 0): 0, (3, 1): 0, (3, 2): 0, (3, 3): 2, (3, 4): 0, (3, 5): 0, (3, 6): 0, (4, 0): 0, (4, 1): 0, (4, 2): 0, (4, 3): 0, (4, 4): 1, (4, 5): 0, (4, 6): 0, (5, 0): 0, (5, 1): 0, (5, 2): 0, (5, 3): 0, (5, 4): 0, (5, 5): 1, (5, 6): 0, (6, 0): 0, (6, 1): 0, (6, 2): 0, (6, 3): 0, (6, 4): 0, (6, 5): 0, (6, 6): 0}\n"
     ]
    }
   ],
   "source": [
    "print(QUBO(rows))"
   ]
  },
  {
   "cell_type": "code",
   "execution_count": 4,
   "metadata": {},
   "outputs": [],
   "source": [
    "#QUBO formulation for Max 3SAT problem with 3rd order term (doesn't work)\n",
    "\n",
    "Q = {\n",
    "    (0, 0): 0, (0, 1): 1, (0, 2): -1, (0, 3): 1, (0, 4): -1, (0, 5): 1,\n",
    "    (1, 1): 0, (1, 2): -1, (1, 3): -1, (1, 4): 1, (1, 5): 1,\n",
    "    (2, 2): -1, (2, 3): 1, (2, 4): -1, (2, 5): 1,\n",
    "    (3, 3): -1, (3, 4): 0, (3, 5): 0,\n",
    "    (4, 4): 0, (4, 5): 0,\n",
    "    (5, 5): -2,\n",
    "}\n",
    "\n",
    "\n",
    "#QUBO formulation for Max 3SAT problem with only 1st and 2nd order terms (works)\n",
    "Q_3 = {\n",
    "    (0,0): 0, (0,1): -2, (0,2): 2, (0,3): -1, (0,4): 1, (0,5): -1, (0,6):1,\n",
    "    (1,1): 1, (1,2): 0, (1,3): -1, (1,4): -1, (1,5): 1, (1,6): -1,\n",
    "    (2,2): -1, (2,3): -1, (2,4): -1, (2,5): -1, (2,6): 1,\n",
    "    (3,3): 2, (3,4): 0, (3,5): 0, (3,6): 0,\n",
    "    (4,4): 1, (4,5): 0, (4,6): 0,\n",
    "    (5,5): 1, (5,6): 0,\n",
    "    (6,6): 0,\n",
    "    \n",
    "}\n",
    "\n",
    "#only upper entries are used since the matrix must be symmetric\n",
    "#write method to convert list of lists into this form"
   ]
  },
  {
   "cell_type": "code",
   "execution_count": 5,
   "metadata": {},
   "outputs": [
    {
     "name": "stdout",
     "output_type": "stream",
     "text": [
      "    0  1  2  3  4  5  6 energy num_oc. chain_b.\n",
      "0   0  0  1  0  0  0  0   -1.0      40      0.0\n",
      "1   1  1  0  0  0  0  0   -1.0      33      0.0\n",
      "2   0  0  1  0  1  0  0   -1.0      73      0.0\n",
      "3   1  1  1  1  0  0  0   -1.0      48      0.0\n",
      "4   0  1  1  0  1  0  1   -1.0      47      0.0\n",
      "5   0  1  1  1  1  0  1   -1.0      49      0.0\n",
      "6   0  1  1  1  1  0  0   -1.0      77      0.0\n",
      "7   0  0  1  0  0  1  0   -1.0      61      0.0\n",
      "8   1  1  1  1  1  1  0   -1.0     121      0.0\n",
      "9   0  0  1  0  1  1  0   -1.0      91      0.0\n",
      "10  1  1  1  1  1  0  0   -1.0      73      0.0\n",
      "11  1  1  1  1  0  1  0   -1.0      80      0.0\n",
      "12  0  1  1  0  1  0  0   -1.0      61      0.0\n",
      "13  1  1  0  1  0  0  1   -1.0      61      0.0\n",
      "14  1  1  0  0  0  0  1   -1.0      33      0.0\n",
      "15  1  1  0  1  0  0  0   -1.0      45      0.0\n",
      "22  0  1  1  1  1  0  1   -1.0       1 0.142857\n",
      "16  0  1  1  0  1  1  1    0.0       1      0.0\n",
      "17  0  0  1  0  0  1  1    0.0       1      0.0\n",
      "18  0  0  1  0  0  0  1    0.0       1      0.0\n",
      "19  1  1  1  0  0  1  0    0.0       1      0.0\n",
      "20  0  1  0  0  1  0  1    0.0       1      0.0\n",
      "21  0  0  1  1  1  0  0    0.0       1      0.0\n",
      "['BINARY', 23 rows, 1000 samples, 7 variables]\n"
     ]
    }
   ],
   "source": [
    "bqm = BinaryQuadraticModel.from_qubo(Q_3)\n",
    "\n",
    "sampler = EmbeddingComposite(DWaveSampler())\n",
    "\n",
    "sampleset = sampler.sample(bqm, num_reads=1000)\n",
    "\n",
    "\n",
    "print(sampleset)"
   ]
  },
  {
   "cell_type": "code",
   "execution_count": 7,
   "metadata": {},
   "outputs": [
    {
     "name": "stdout",
     "output_type": "stream",
     "text": [
      "D-Wave Problem Inspector\n",
      "This tool visualizes problems submitted to the quantum computer and the results returned.\n",
      "This package is available under the D-Wave EULA license.\n",
      "The terms of the license are available online: https://docs.ocean.dwavesys.com/eula\n",
      "Install (y/n)? [y]: ^C\n",
      "Aborted!\n"
     ]
    }
   ],
   "source": []
  }
 ],
 "metadata": {
  "kernelspec": {
   "display_name": "Python 3",
   "language": "python",
   "name": "python3"
  },
  "language_info": {
   "codemirror_mode": {
    "name": "ipython",
    "version": 3
   },
   "file_extension": ".py",
   "mimetype": "text/x-python",
   "name": "python",
   "nbconvert_exporter": "python",
   "pygments_lexer": "ipython3",
   "version": "3.7.0"
  }
 },
 "nbformat": 4,
 "nbformat_minor": 2
}
