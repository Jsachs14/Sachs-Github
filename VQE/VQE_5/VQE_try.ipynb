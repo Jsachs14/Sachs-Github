{
 "cells": [
  {
   "cell_type": "code",
   "execution_count": 29,
   "metadata": {},
   "outputs": [],
   "source": [
    "import numpy as np\n",
    "\n",
    "from qiskit.circuit.library import EfficientSU2\n",
    "from qiskit.quantum_info import SparsePauliOp\n",
    "from scipy.optimize import minimize\n",
    "\n",
    "from qiskit_ibm_runtime import QiskitRuntimeService, Session\n",
    "from qiskit_ibm_runtime import EstimatorV2 as Estimator\n",
    "from qiskit_ibm_runtime import SamplerV2 as Sampler"
   ]
  },
  {
   "cell_type": "code",
   "execution_count": 30,
   "metadata": {},
   "outputs": [
    {
     "data": {
      "text/plain": [
       "'ibm_kyoto'"
      ]
     },
     "execution_count": 30,
     "metadata": {},
     "output_type": "execute_result"
    }
   ],
   "source": [
    "# To run on hardware, select the backend with the fewest number of jobs in the queue\n",
    "QiskitRuntimeService.save_account(channel=\"ibm_quantum\",token=\"5bdd6c2a73e84f421422bf22890663ce0c83b96215f059ce6d1af3d00218c1611418dc4cf86a33554518d39a5749435c45ecbe558d19ac2c3013ec978207840c\",overwrite=True)\n",
    "service = QiskitRuntimeService(channel=\"ibm_quantum\")\n",
    "backend = service.least_busy(operational=True, simulator=False)\n",
    "backend.name"
   ]
  },
  {
   "cell_type": "code",
   "execution_count": 31,
   "metadata": {},
   "outputs": [],
   "source": [
    "#general roadmap for VQE\n",
    "\n",
    "#choose Hamiltonian\n",
    "Hamiltonian = SparsePauliOp.from_list([(\"XZ\", -1.0), (\"ZX\", -1.0), (\"YY\", 1.0), (\"II\", 1.0)])\n",
    "\n",
    "#choose ansatz\n",
    "\n",
    "ansatz = EfficientSU2(Hamiltonian.num_qubits, reps=1)\n",
    "\n",
    "#format with pass manager\n",
    "\n",
    "from qiskit.transpiler.preset_passmanagers import generate_preset_pass_manager\n",
    "\n",
    "pm = generate_preset_pass_manager(target=backend.target,optimization_level=3)\n",
    "ISA_ansatz = pm.run(ansatz)\n",
    "ISA_Hamiltonian = Hamiltonian.apply_layout(layout=ISA_ansatz.layout)\n",
    "\n",
    "\n",
    "def cost_function(params,ansatz,hamiltonian,estimator):\n",
    "    pub = (ansatz, [hamiltonian], [params])\n",
    "    result = estimator.run(pubs=[pub]).result()\n",
    "    cost = result[0].data.evs[0]\n",
    "\n",
    "    return cost\n",
    "\n"
   ]
  },
  {
   "cell_type": "code",
   "execution_count": 32,
   "metadata": {},
   "outputs": [],
   "source": [
    "session = Session(backend=backend)\n",
    "estimator = Estimator(session=session)\n",
    "estimator.options.default_shots = 1000\n",
    "\n",
    "sampler = Sampler(session=session)\n",
    "sampler.options.default_shots = 100\n",
    "\n",
    "\n",
    "x0 = 2*np.pi*np.random.rand(ISA_ansatz.num_parameters)\n",
    "\n"
   ]
  },
  {
   "cell_type": "code",
   "execution_count": 33,
   "metadata": {},
   "outputs": [
    {
     "name": "stderr",
     "output_type": "stream",
     "text": [
      "/Users/jonahsachs/opt/miniconda3/envs/myQenv/lib/python3.12/site-packages/qiskit_ibm_runtime/qiskit_runtime_service.py:879: UserWarning: Your current pending jobs are estimated to consume 623.1034379365619 quantum seconds, but you only have 519 quantum seconds left in your monthly quota; therefore, it is likely this job will be canceled\n",
      "  warnings.warn(warning_message)\n",
      "/Users/jonahsachs/opt/miniconda3/envs/myQenv/lib/python3.12/site-packages/qiskit_ibm_runtime/qiskit_runtime_service.py:879: UserWarning: Your current pending jobs are estimated to consume 623.1034379365619 quantum seconds, but you only have 514 quantum seconds left in your monthly quota; therefore, it is likely this job will be canceled\n",
      "  warnings.warn(warning_message)\n",
      "/Users/jonahsachs/opt/miniconda3/envs/myQenv/lib/python3.12/site-packages/qiskit_ibm_runtime/qiskit_runtime_service.py:879: UserWarning: Your current pending jobs are estimated to consume 623.1034379365619 quantum seconds, but you only have 509 quantum seconds left in your monthly quota; therefore, it is likely this job will be canceled\n",
      "  warnings.warn(warning_message)\n",
      "/Users/jonahsachs/opt/miniconda3/envs/myQenv/lib/python3.12/site-packages/qiskit_ibm_runtime/qiskit_runtime_service.py:879: UserWarning: Your current pending jobs are estimated to consume 623.1034379365619 quantum seconds, but you only have 504 quantum seconds left in your monthly quota; therefore, it is likely this job will be canceled\n",
      "  warnings.warn(warning_message)\n",
      "/Users/jonahsachs/opt/miniconda3/envs/myQenv/lib/python3.12/site-packages/qiskit_ibm_runtime/qiskit_runtime_service.py:879: UserWarning: Your current pending jobs are estimated to consume 623.1034379365619 quantum seconds, but you only have 499 quantum seconds left in your monthly quota; therefore, it is likely this job will be canceled\n",
      "  warnings.warn(warning_message)\n",
      "/Users/jonahsachs/opt/miniconda3/envs/myQenv/lib/python3.12/site-packages/qiskit_ibm_runtime/qiskit_runtime_service.py:879: UserWarning: Your current pending jobs are estimated to consume 623.1034379365619 quantum seconds, but you only have 494 quantum seconds left in your monthly quota; therefore, it is likely this job will be canceled\n",
      "  warnings.warn(warning_message)\n",
      "/Users/jonahsachs/opt/miniconda3/envs/myQenv/lib/python3.12/site-packages/qiskit_ibm_runtime/qiskit_runtime_service.py:879: UserWarning: Your current pending jobs are estimated to consume 623.1034379365619 quantum seconds, but you only have 489 quantum seconds left in your monthly quota; therefore, it is likely this job will be canceled\n",
      "  warnings.warn(warning_message)\n",
      "/Users/jonahsachs/opt/miniconda3/envs/myQenv/lib/python3.12/site-packages/qiskit_ibm_runtime/qiskit_runtime_service.py:879: UserWarning: Your current pending jobs are estimated to consume 623.1034379365619 quantum seconds, but you only have 484 quantum seconds left in your monthly quota; therefore, it is likely this job will be canceled\n",
      "  warnings.warn(warning_message)\n",
      "/Users/jonahsachs/opt/miniconda3/envs/myQenv/lib/python3.12/site-packages/qiskit_ibm_runtime/qiskit_runtime_service.py:879: UserWarning: Your current pending jobs are estimated to consume 623.1034379365619 quantum seconds, but you only have 479 quantum seconds left in your monthly quota; therefore, it is likely this job will be canceled\n",
      "  warnings.warn(warning_message)\n",
      "capi_return is NULL\n",
      "Call-back cb_calcfc_in__cobyla__user__routines failed.\n",
      "Traceback (most recent call last):\n",
      "  File \"/Users/jonahsachs/opt/miniconda3/envs/myQenv/lib/python3.12/site-packages/scipy/optimize/_cobyla_py.py\", line 281, in calcfc\n",
      "Fatal Python error: F2PySwapThreadLocalCallbackPtr: F2PySwapThreadLocalCallbackPtr: PyLong_AsVoidPtr failed\n",
      "Python runtime state: initialized\n",
      "    f = sf.fun(x)\n",
      "        ^^^^^^^^^\n",
      "  File \"/Users/jonahsachs/opt/miniconda3/envs/myQenv/lib/python3.12/site-packages/scipy/optimize/_differentiable_functions.py\", line 278, in fun\n",
      "    self._update_fun()\n",
      "  File \"/Users/jonahsachs/opt/miniconda3/envs/myQenv/lib/python3.12/site-packages/scipy/optimize/_differentiable_functions.py\", line 262, in _update_fun\n",
      "    self._update_fun_impl()\n",
      "  File \"/Users/jonahsachs/opt/miniconda3/envs/myQenv/lib/python3.12/site-packages/scipy/optimize/_differentiable_functions.py\", line 163, in update_fun\n",
      "    self.f = fun_wrapped(self.x)\n",
      "             ^^^^^^^^^^^^^^^^^^^\n",
      "  File \"/Users/jonahsachs/opt/miniconda3/envs/myQenv/lib/python3.12/site-packages/scipy/optimize/_differentiable_functions.py\", line 145, in fun_wrapped\n",
      "    fx = fun(np.copy(x), *args)\n",
      "         ^^^^^^^^^^^^^^^^^^^^^^\n",
      "  File \"/var/folders/0p/gqwrfts538g0nczcykltdf980000gn/T/ipykernel_48166/3075320334.py\", line 21, in cost_function\n",
      "  File \"/Users/jonahsachs/opt/miniconda3/envs/myQenv/lib/python3.12/site-packages/qiskit_ibm_runtime/estimator.py\", line 153, in run\n",
      "    return self._run(coerced_pubs)  # type: ignore[arg-type]\n",
      "           ^^^^^^^^^^^^^^^^^^^^^^^\n",
      "  File \"/Users/jonahsachs/opt/miniconda3/envs/myQenv/lib/python3.12/site-packages/qiskit_ibm_runtime/base_primitive.py\", line 162, in _run\n",
      "    return self._session.run(\n",
      "           ^^^^^^^^^^^^^^^^^^\n",
      "  File \"/Users/jonahsachs/opt/miniconda3/envs/myQenv/lib/python3.12/site-packages/qiskit_ibm_runtime/session.py\", line 42, in _wrapper\n",
      "    return func(self, *args, **kwargs)\n",
      "           ^^^^^^^^^^^^^^^^^^^^^^^^^^^\n",
      "  File \"/Users/jonahsachs/opt/miniconda3/envs/myQenv/lib/python3.12/site-packages/qiskit_ibm_runtime/session.py\", line 200, in run\n",
      "    job = self._service.run(\n",
      "          ^^^^^^^^^^^^^^^^^^\n",
      "  File \"/Users/jonahsachs/opt/miniconda3/envs/myQenv/lib/python3.12/site-packages/qiskit_ibm_runtime/qiskit_runtime_service.py\", line 884, in run\n",
      "    raise IBMRuntimeError(f\"Failed to run program: {ex}\") from None\n",
      "qiskit_ibm_runtime.exceptions.IBMRuntimeError: 'Failed to run program: \\'400 Client Error: Bad Request for url: https://api.quantum.ibm.com/runtime/jobs. {\"errors\":[{\"code\":1217,\"message\":\"Session has been closed.\",\"solution\":\"Reduce time between submitting subsequent jobs in a session.\",\"more_info\":\"https://docs.quantum-computing.ibm.com/errors\"}]}\\''\n"
     ]
    },
    {
     "ename": "",
     "evalue": "",
     "output_type": "error",
     "traceback": [
      "\u001b[1;31mThe Kernel crashed while executing code in the the current cell or a previous cell. Please review the code in the cell(s) to identify a possible cause of the failure. Click <a href='https://aka.ms/vscodeJupyterKernelCrash'>here</a> for more info. View Jupyter <a href='command:jupyter.viewOutput'>log</a> for further details."
     ]
    }
   ],
   "source": [
    "res = minimize(cost_function, x0, args=(ISA_ansatz, ISA_Hamiltonian, estimator), method=\"COBYLA\")"
   ]
  }
 ],
 "metadata": {
  "kernelspec": {
   "display_name": "Q_new_env",
   "language": "python",
   "name": "python3"
  },
  "language_info": {
   "codemirror_mode": {
    "name": "ipython",
    "version": 3
   },
   "file_extension": ".py",
   "mimetype": "text/x-python",
   "name": "python",
   "nbconvert_exporter": "python",
   "pygments_lexer": "ipython3",
   "version": "3.12.2"
  }
 },
 "nbformat": 4,
 "nbformat_minor": 2
}
