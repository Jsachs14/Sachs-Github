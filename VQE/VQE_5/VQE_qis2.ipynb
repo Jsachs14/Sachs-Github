{
 "cells": [
  {
   "cell_type": "code",
   "execution_count": 1,
   "metadata": {},
   "outputs": [],
   "source": [
    "import numpy as np\n",
    "from qiskit.circuit.library import EfficientSU2\n",
    "from qiskit.quantum_info import SparsePauliOp\n",
    "from qiskit_algorithms.optimizers import SPSA\n",
    "from qiskit_ibm_runtime import EstimatorV2\n",
    "# from qiskit.primitives import Estimator\n",
    "from scipy.optimize import minimize\n",
    "from qiskit_ibm_runtime import QiskitRuntimeService, Session\n",
    "from qiskit_ibm_runtime import Options\n",
    "from qiskit.transpiler.preset_passmanagers import generate_preset_pass_manager\n"
   ]
  },
  {
   "cell_type": "code",
   "execution_count": 2,
   "metadata": {},
   "outputs": [
    {
     "data": {
      "text/plain": [
       "'ibmq_qasm_simulator'"
      ]
     },
     "execution_count": 2,
     "metadata": {},
     "output_type": "execute_result"
    }
   ],
   "source": [
    "#setting up Qiskit_Runtime for Session management\n",
    "QiskitRuntimeService.save_account(channel=\"ibm_quantum\",token=\"5bdd6c2a73e84f421422bf22890663ce0c83b96215f059ce6d1af3d00218c1611418dc4cf86a33554518d39a5749435c45ecbe558d19ac2c3013ec978207840c\",overwrite=True)\n",
    "service = QiskitRuntimeService(channel=\"ibm_quantum\")\n",
    "backend = service.least_busy(operational=True, simulator=True)\n",
    "backend.name"
   ]
  },
  {
   "cell_type": "code",
   "execution_count": 3,
   "metadata": {},
   "outputs": [],
   "source": [
    "#formed from the system, the operator composed of the tensor produuct of the pauli matrices\n",
    "Hamiltonian = SparsePauliOp.from_list([(\"XZ\", -2.0), (\"ZX\", -1.0), (\"YY\", 1.0), (\"II\", 1.0)])\n",
    "\n",
    "#analyitcally computed the minimum eigenvalue of the Hamiltonian (not possible for large systems)\n",
    "min_eigval = min(np.linalg.eigvalsh(Hamiltonian.to_matrix()))\n",
    "\n",
    "#Estimator object to estimate the cost function (expectation value of the Hamiltonian)\n",
    "estimator = EstimatorV2(backend=backend)\n",
    "# estimator = Estimator()\n",
    "\n",
    "#ansatz to apply to the operator for form the expectation value: <psi|H|psi> (this is psi)\n",
    "ansatz = EfficientSU2(Hamiltonian.num_qubits, reps=1)\n",
    "\n",
    "#randomly chosen initial paramters for the ansatz\n",
    "x0  = 2 * np.pi * np.random.rand(ansatz.num_parameters)\n",
    "\n",
    "#callback function to save and later plot the results\n",
    "callback = lambda nfev, params, fval, step, acc: print(f\"Evaluation: {nfev}: {fval}\")\n",
    "\n",
    "#classical optimizer which takes the cost results and changes the parameters of the ansatz\n",
    "optimizer = SPSA(maxiter=250, callback=callback)"
   ]
  },
  {
   "cell_type": "code",
   "execution_count": 4,
   "metadata": {},
   "outputs": [],
   "source": [
    "#Converting both H and the ansatz to the backend's layout as I was runnning into some issues\n",
    "pass_manager = generate_preset_pass_manager(target=backend.target, optimization_level=3)\n",
    "ISA_ansatz = pass_manager.run(ansatz)\n",
    "ISA_hamiltonian = Hamiltonian.apply_layout(layout=ISA_ansatz.layout)"
   ]
  },
  {
   "cell_type": "code",
   "execution_count": 9,
   "metadata": {},
   "outputs": [],
   "source": [
    "options_dict = {\n",
    "    \"default_shots\": 1024,\n",
    "    \"optimization_level\": 1,\n",
    "}\n",
    "\n",
    "\n",
    "\n",
    "# def cost_func(params, hamiltonian, ansatz, estimator):\n",
    "\n",
    "#     # pub_access = (ansatz,[hamiltonian],[params])\n",
    "#     pub_access = [(ISA_ansatz, ISA_hamiltonian, x0)]\n",
    "#     result = estimator.run(pubs=[pub_access]).result()\n",
    "#     energy = result[0].data.evs[0]\n",
    "#     return energy"
   ]
  },
  {
   "cell_type": "code",
   "execution_count": 13,
   "metadata": {},
   "outputs": [
    {
     "name": "stderr",
     "output_type": "stream",
     "text": [
      "/Users/jonahsachs/opt/miniconda3/envs/myQenv/lib/python3.12/site-packages/qiskit_ibm_runtime/qiskit_runtime_service.py:879: UserWarning: Cloud simulators will be deprecated on 15 May 2024. Use the new local testing mode in qiskit-ibm-runtime version 0.22.0 or later to meet your debugging needs.\n",
      "  warnings.warn(warning_message)\n"
     ]
    },
    {
     "ename": "TypeError",
     "evalue": "unsupported operand type(s) for -: 'RuntimeJobV2' and 'RuntimeJobV2'",
     "output_type": "error",
     "traceback": [
      "\u001b[0;31m---------------------------------------------------------------------------\u001b[0m",
      "\u001b[0;31mTypeError\u001b[0m                                 Traceback (most recent call last)",
      "Cell \u001b[0;32mIn[13], line 16\u001b[0m\n\u001b[1;32m     10\u001b[0m     cost_func \u001b[38;5;241m=\u001b[39m \u001b[38;5;28;01mlambda\u001b[39;00m params: estimator\u001b[38;5;241m.\u001b[39mrun(pub)\n\u001b[1;32m     11\u001b[0m     \u001b[38;5;66;03m# job_result = cost_func(estimator)\u001b[39;00m\n\u001b[1;32m     12\u001b[0m     \u001b[38;5;66;03m# pub_result = job_result.\u001b[39;00m\n\u001b[1;32m     13\u001b[0m     \u001b[38;5;66;03m# result = optimizer.minimize(cost_func, x0=x0)\u001b[39;00m\n\u001b[1;32m     14\u001b[0m     \u001b[38;5;66;03m# print(session.details())\u001b[39;00m\n\u001b[0;32m---> 16\u001b[0m     result \u001b[38;5;241m=\u001b[39m \u001b[43moptimizer\u001b[49m\u001b[38;5;241;43m.\u001b[39;49m\u001b[43mminimize\u001b[49m\u001b[43m(\u001b[49m\u001b[43mcost_func\u001b[49m\u001b[43m,\u001b[49m\u001b[43m \u001b[49m\u001b[43mx0\u001b[49m\u001b[38;5;241;43m=\u001b[39;49m\u001b[43mx0\u001b[49m\u001b[43m,\u001b[49m\u001b[43m \u001b[49m\u001b[43m)\u001b[49m\n\u001b[1;32m     18\u001b[0m \u001b[38;5;28mprint\u001b[39m(result)\n",
      "File \u001b[0;32m~/opt/miniconda3/envs/myQenv/lib/python3.12/site-packages/qiskit_algorithms/optimizers/spsa.py:515\u001b[0m, in \u001b[0;36mSPSA.minimize\u001b[0;34m(self, fun, x0, jac, bounds)\u001b[0m\n\u001b[1;32m    513\u001b[0m x0 \u001b[38;5;241m=\u001b[39m np\u001b[38;5;241m.\u001b[39masarray(x0)\n\u001b[1;32m    514\u001b[0m \u001b[38;5;28;01mif\u001b[39;00m \u001b[38;5;28mself\u001b[39m\u001b[38;5;241m.\u001b[39mlearning_rate \u001b[38;5;129;01mis\u001b[39;00m \u001b[38;5;28;01mNone\u001b[39;00m \u001b[38;5;129;01mand\u001b[39;00m \u001b[38;5;28mself\u001b[39m\u001b[38;5;241m.\u001b[39mperturbation \u001b[38;5;129;01mis\u001b[39;00m \u001b[38;5;28;01mNone\u001b[39;00m:\n\u001b[0;32m--> 515\u001b[0m     get_eta, get_eps \u001b[38;5;241m=\u001b[39m \u001b[38;5;28;43mself\u001b[39;49m\u001b[38;5;241;43m.\u001b[39;49m\u001b[43mcalibrate\u001b[49m\u001b[43m(\u001b[49m\u001b[43mfun\u001b[49m\u001b[43m,\u001b[49m\u001b[43m \u001b[49m\u001b[43mx0\u001b[49m\u001b[43m,\u001b[49m\u001b[43m \u001b[49m\u001b[43mmax_evals_grouped\u001b[49m\u001b[38;5;241;43m=\u001b[39;49m\u001b[38;5;28;43mself\u001b[39;49m\u001b[38;5;241;43m.\u001b[39;49m\u001b[43m_max_evals_grouped\u001b[49m\u001b[43m)\u001b[49m\n\u001b[1;32m    516\u001b[0m \u001b[38;5;28;01melse\u001b[39;00m:\n\u001b[1;32m    517\u001b[0m     get_eta, get_eps \u001b[38;5;241m=\u001b[39m _validate_pert_and_learningrate(\n\u001b[1;32m    518\u001b[0m         \u001b[38;5;28mself\u001b[39m\u001b[38;5;241m.\u001b[39mperturbation, \u001b[38;5;28mself\u001b[39m\u001b[38;5;241m.\u001b[39mlearning_rate\n\u001b[1;32m    519\u001b[0m     )\n",
      "File \u001b[0;32m~/opt/miniconda3/envs/myQenv/lib/python3.12/site-packages/qiskit_algorithms/optimizers/spsa.py:339\u001b[0m, in \u001b[0;36mSPSA.calibrate\u001b[0;34m(loss, initial_point, c, stability_constant, target_magnitude, alpha, gamma, modelspace, max_evals_grouped)\u001b[0m\n\u001b[1;32m    337\u001b[0m avg_magnitudes \u001b[38;5;241m=\u001b[39m \u001b[38;5;241m0.0\u001b[39m\n\u001b[1;32m    338\u001b[0m \u001b[38;5;28;01mfor\u001b[39;00m i \u001b[38;5;129;01min\u001b[39;00m \u001b[38;5;28mrange\u001b[39m(steps):\n\u001b[0;32m--> 339\u001b[0m     delta \u001b[38;5;241m=\u001b[39m \u001b[43mlosses\u001b[49m\u001b[43m[\u001b[49m\u001b[38;5;241;43m2\u001b[39;49m\u001b[43m \u001b[49m\u001b[38;5;241;43m*\u001b[39;49m\u001b[43m \u001b[49m\u001b[43mi\u001b[49m\u001b[43m]\u001b[49m\u001b[43m \u001b[49m\u001b[38;5;241;43m-\u001b[39;49m\u001b[43m \u001b[49m\u001b[43mlosses\u001b[49m\u001b[43m[\u001b[49m\u001b[38;5;241;43m2\u001b[39;49m\u001b[43m \u001b[49m\u001b[38;5;241;43m*\u001b[39;49m\u001b[43m \u001b[49m\u001b[43mi\u001b[49m\u001b[43m \u001b[49m\u001b[38;5;241;43m+\u001b[39;49m\u001b[43m \u001b[49m\u001b[38;5;241;43m1\u001b[39;49m\u001b[43m]\u001b[49m\n\u001b[1;32m    340\u001b[0m     avg_magnitudes \u001b[38;5;241m+\u001b[39m\u001b[38;5;241m=\u001b[39m np\u001b[38;5;241m.\u001b[39mabs(delta \u001b[38;5;241m/\u001b[39m (\u001b[38;5;241m2\u001b[39m \u001b[38;5;241m*\u001b[39m c))\n\u001b[1;32m    342\u001b[0m avg_magnitudes \u001b[38;5;241m/\u001b[39m\u001b[38;5;241m=\u001b[39m steps\n",
      "\u001b[0;31mTypeError\u001b[0m: unsupported operand type(s) for -: 'RuntimeJobV2' and 'RuntimeJobV2'"
     ]
    }
   ],
   "source": [
    "#IBMQ Session\n",
    "#multiple shots which begin after the first run is processed\n",
    "#so you dont have to wait 100 hours, etc\n",
    "#pub is the variables fed to the estimator\n",
    "with Session(service=service,backend=backend) as session:\n",
    "    estimator = EstimatorV2(session=session,options=options_dict)\n",
    "    pub = [(ISA_ansatz, ISA_hamiltonian, x0)]\n",
    "    # cost_func = estimator.run(pub)\n",
    "    # cost_func = lambda params: estimator.run(pub).result().values[0]\n",
    "    job = estimator.run(pub)\n",
    "    job_result = job.result()\n",
    "    pub_result=job_result[0]\n",
    "    # job_result = cost_func(estimator)\n",
    "    # pub_result = job_result.\n",
    "    # result = optimizer.minimize(cost_func, x0=x0)\n",
    "    # print(session.details())\n",
    "\n",
    "    \n",
    "\n",
    "\n",
    "\n",
    "print(result)"
   ]
  },
  {
   "cell_type": "code",
   "execution_count": 14,
   "metadata": {},
   "outputs": [
    {
     "ename": "AttributeError",
     "evalue": "'function' object has no attribute 'result'",
     "output_type": "error",
     "traceback": [
      "\u001b[0;31m---------------------------------------------------------------------------\u001b[0m",
      "\u001b[0;31mAttributeError\u001b[0m                            Traceback (most recent call last)",
      "Cell \u001b[0;32mIn[14], line 1\u001b[0m\n\u001b[0;32m----> 1\u001b[0m pub_result \u001b[38;5;241m=\u001b[39m \u001b[43mcost_func\u001b[49m\u001b[38;5;241;43m.\u001b[39;49m\u001b[43mresult\u001b[49m()[\u001b[38;5;241m0\u001b[39m]\n\u001b[1;32m      2\u001b[0m \u001b[38;5;28mprint\u001b[39m(\u001b[38;5;124mf\u001b[39m\u001b[38;5;124m\"\u001b[39m\u001b[38;5;124mExpectation values: \u001b[39m\u001b[38;5;132;01m{\u001b[39;00mpub_result\u001b[38;5;241m.\u001b[39mdata\u001b[38;5;241m.\u001b[39mevs\u001b[38;5;132;01m}\u001b[39;00m\u001b[38;5;124m\"\u001b[39m)\n",
      "\u001b[0;31mAttributeError\u001b[0m: 'function' object has no attribute 'result'"
     ]
    }
   ],
   "source": [
    "pub_result = cost_func.result()[0]\n",
    "print(f\"Expectation values: {pub_result.data.evs}\")"
   ]
  },
  {
   "cell_type": "code",
   "execution_count": null,
   "metadata": {},
   "outputs": [
    {
     "ename": "NameError",
     "evalue": "name 'result' is not defined",
     "output_type": "error",
     "traceback": [
      "\u001b[0;31m---------------------------------------------------------------------------\u001b[0m",
      "\u001b[0;31mNameError\u001b[0m                                 Traceback (most recent call last)",
      "Cell \u001b[0;32mIn[83], line 1\u001b[0m\n\u001b[0;32m----> 1\u001b[0m \u001b[38;5;28mprint\u001b[39m(\u001b[43mresult\u001b[49m)\n",
      "\u001b[0;31mNameError\u001b[0m: name 'result' is not defined"
     ]
    }
   ],
   "source": [
    "print(result)"
   ]
  },
  {
   "cell_type": "code",
   "execution_count": null,
   "metadata": {},
   "outputs": [],
   "source": [
    "# import numpy as np\n",
    "# from qiskit.quantum_info import SparsePauliOp\n",
    "# from qiskit_algorithms.optimizers import SPSA\n",
    "# from qiskit.circuit.library import EfficientSU2\n",
    "# from qiskit.primitives import Estimator\n",
    "# from scipy.optimize import minimize\n",
    "# from qiskit_ibm_runtime import QiskitRuntimeService, Session\n",
    "# from qiskit_ibm_runtime import Options\n",
    "# from qiskit.transpiler.preset_passmanagers import generate_preset_pass_manager\n",
    "\n",
    "# Hamiltonian = SparsePauliOp.from_list([(\"XZ\", -2.0), (\"ZX\", -1.0), (\"YY\", 1.0), (\"II\", 1.0)])\n",
    "\n",
    "# min_eigval = min(np.linalg.eigvalsh(Hamiltonian.to_matrix()))\n",
    "\n",
    "# estimator = Estimator()\n",
    "\n",
    "# ansatz = EfficientSU2(Hamiltonian.num_qubits, reps=1)\n",
    "\n",
    "# x0  = 2 * np.pi * np.random.rand(ansatz.num_parameters)\n",
    "\n",
    "# callback = lambda nfev, params, fval, step, acc: print(f\"Evaluation: {nfev}: {fval}\")\n",
    "# optimizer = SPSA(maxiter=250, callback=callback)\n",
    "\n",
    "# QiskitRuntimeService.save_account(channel=\"ibm_quantum\",token=\"5bdd6c2a73e84f421422bf22890663ce0c83b96215f059ce6d1af3d00218c1611418dc4cf86a33554518d39a5749435c45ecbe558d19ac2c3013ec978207840c\",overwrite=True)\n",
    "# service = QiskitRuntimeService()\n",
    "# backend = service.least_busy(operational=True, simulator=False)\n",
    "\n",
    "# options = Options(environment={\"log_level\": \"DEBUG\"}, execution={\"shots\": 1024, \"init_qubits\": True})\n",
    "# options.execution.init_qubits = True #initialize qubits to |0>\n",
    "# options.execution.shots = 1024 #number of shots\n",
    "# # options.environment.callback = [] #later error cancellation\n",
    "# # options.environment.job_tags = []\n",
    "# options.environment.log_level = 'DEBUG'\n",
    "\n",
    "\n",
    "# options_dict = {\n",
    "#     \"execution\": {\n",
    "#         \"init_qubits\": options.execution.init_qubits,\n",
    "#         \"shots\": options.execution.shots,\n",
    "#     },\n",
    "#     \"environment\": {\n",
    "#         # \"callback\": options.environment.callback,\n",
    "#         # \"job_tags\": options.environment.job_tags,\n",
    "#         \"log_level\": options.environment.log_level,\n",
    "#     }\n",
    "# }\n",
    "\n",
    "\n",
    "# #ISA architecture\n",
    "# pass_manager = generate_preset_pass_manager(target=backend.target, optimization_level=3)\n",
    "# ISA_ansatz = pass_manager.run(ansatz)\n",
    "# ISA_hamiltonian = Hamiltonian.apply_layout(layout=ISA_ansatz.layout)\n",
    "\n",
    "\n",
    "\n",
    "# with Session(backend=backend) as session:\n",
    "#     estimator = Estimator(session=session)\n",
    "#     cost_func = lambda params: estimator.run(ansatz, Hamiltonian, parameter_values=params).result().values[0]\n",
    "#     result = optimizer.minimize(cost_func, x0=x0)\n",
    "\n",
    "# print(result)"
   ]
  },
  {
   "cell_type": "code",
   "execution_count": null,
   "metadata": {},
   "outputs": [],
   "source": [
    "session.close()"
   ]
  }
 ],
 "metadata": {
  "kernelspec": {
   "display_name": "cse468",
   "language": "python",
   "name": "python3"
  },
  "language_info": {
   "codemirror_mode": {
    "name": "ipython",
    "version": 3
   },
   "file_extension": ".py",
   "mimetype": "text/x-python",
   "name": "python",
   "nbconvert_exporter": "python",
   "pygments_lexer": "ipython3",
   "version": "3.12.2"
  }
 },
 "nbformat": 4,
 "nbformat_minor": 2
}
